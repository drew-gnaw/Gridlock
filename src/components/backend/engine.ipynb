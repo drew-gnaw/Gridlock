{
 "cells": [
  {
   "cell_type": "code",
   "execution_count": 18,
   "metadata": {},
   "outputs": [],
   "source": [
    "import numpy as np # linear algebra\n",
    "import pandas as pd # data processing, CSV file I/O (e.g. pd.read_csv)\n",
    "import os\n",
    "import tensorflow as tf\n",
    "from tensorflow import keras\n",
    "for dirname, _, filenames in os.walk('/kaggle/input'):\n",
    "    for filename in filenames:\n",
    "        print(os.path.join(dirname, filename))\n",
    "from keras.models import Sequential\n",
    "from keras.layers import Dense\n",
    "\n",
    "#Reading in our training data\n",
    "df = pd.read_csv(\"./kaggle/chessData.csv\")\n",
    "#Reading in our validation data\n",
    "Edf = pd.read_csv(\"./kaggle/random_evals.csv\")"
   ]
  },
  {
   "cell_type": "code",
   "execution_count": 20,
   "metadata": {},
   "outputs": [
    {
     "data": {
      "text/html": [
       "<div>\n",
       "<style scoped>\n",
       "    .dataframe tbody tr th:only-of-type {\n",
       "        vertical-align: middle;\n",
       "    }\n",
       "\n",
       "    .dataframe tbody tr th {\n",
       "        vertical-align: top;\n",
       "    }\n",
       "\n",
       "    .dataframe thead th {\n",
       "        text-align: right;\n",
       "    }\n",
       "</style>\n",
       "<table border=\"1\" class=\"dataframe\">\n",
       "  <thead>\n",
       "    <tr style=\"text-align: right;\">\n",
       "      <th></th>\n",
       "      <th>FEN</th>\n",
       "      <th>Evaluation</th>\n",
       "    </tr>\n",
       "  </thead>\n",
       "  <tbody>\n",
       "    <tr>\n",
       "      <th>0</th>\n",
       "      <td>rnbqkbnr/pppppppp/8/8/4P3/8/PPPP1PPP/RNBQKBNR ...</td>\n",
       "      <td>-10</td>\n",
       "    </tr>\n",
       "    <tr>\n",
       "      <th>1</th>\n",
       "      <td>rnbqkbnr/pppp1ppp/4p3/8/4P3/8/PPPP1PPP/RNBQKBN...</td>\n",
       "      <td>+56</td>\n",
       "    </tr>\n",
       "    <tr>\n",
       "      <th>2</th>\n",
       "      <td>rnbqkbnr/pppp1ppp/4p3/8/3PP3/8/PPP2PPP/RNBQKBN...</td>\n",
       "      <td>-9</td>\n",
       "    </tr>\n",
       "    <tr>\n",
       "      <th>3</th>\n",
       "      <td>rnbqkbnr/ppp2ppp/4p3/3p4/3PP3/8/PPP2PPP/RNBQKB...</td>\n",
       "      <td>+52</td>\n",
       "    </tr>\n",
       "    <tr>\n",
       "      <th>4</th>\n",
       "      <td>rnbqkbnr/ppp2ppp/4p3/3p4/3PP3/8/PPPN1PPP/R1BQK...</td>\n",
       "      <td>-26</td>\n",
       "    </tr>\n",
       "    <tr>\n",
       "      <th>5</th>\n",
       "      <td>rnbqkb1r/ppp2ppp/4pn2/3p4/3PP3/8/PPPN1PPP/R1BQ...</td>\n",
       "      <td>+50</td>\n",
       "    </tr>\n",
       "    <tr>\n",
       "      <th>6</th>\n",
       "      <td>rnbqkb1r/ppp2ppp/4pn2/3pP3/3P4/8/PPPN1PPP/R1BQ...</td>\n",
       "      <td>+10</td>\n",
       "    </tr>\n",
       "    <tr>\n",
       "      <th>7</th>\n",
       "      <td>rnbqkb1r/pppn1ppp/4p3/3pP3/3P4/8/PPPN1PPP/R1BQ...</td>\n",
       "      <td>+75</td>\n",
       "    </tr>\n",
       "    <tr>\n",
       "      <th>8</th>\n",
       "      <td>rnbqkb1r/pppn1ppp/4p3/3pP3/3P1P2/8/PPPN2PP/R1B...</td>\n",
       "      <td>+52</td>\n",
       "    </tr>\n",
       "    <tr>\n",
       "      <th>9</th>\n",
       "      <td>rnbqkb1r/pp1n1ppp/4p3/2ppP3/3P1P2/8/PPPN2PP/R1...</td>\n",
       "      <td>+52</td>\n",
       "    </tr>\n",
       "  </tbody>\n",
       "</table>\n",
       "</div>"
      ],
      "text/plain": [
       "                                                 FEN Evaluation\n",
       "0  rnbqkbnr/pppppppp/8/8/4P3/8/PPPP1PPP/RNBQKBNR ...        -10\n",
       "1  rnbqkbnr/pppp1ppp/4p3/8/4P3/8/PPPP1PPP/RNBQKBN...        +56\n",
       "2  rnbqkbnr/pppp1ppp/4p3/8/3PP3/8/PPP2PPP/RNBQKBN...         -9\n",
       "3  rnbqkbnr/ppp2ppp/4p3/3p4/3PP3/8/PPP2PPP/RNBQKB...        +52\n",
       "4  rnbqkbnr/ppp2ppp/4p3/3p4/3PP3/8/PPPN1PPP/R1BQK...        -26\n",
       "5  rnbqkb1r/ppp2ppp/4pn2/3p4/3PP3/8/PPPN1PPP/R1BQ...        +50\n",
       "6  rnbqkb1r/ppp2ppp/4pn2/3pP3/3P4/8/PPPN1PPP/R1BQ...        +10\n",
       "7  rnbqkb1r/pppn1ppp/4p3/3pP3/3P4/8/PPPN1PPP/R1BQ...        +75\n",
       "8  rnbqkb1r/pppn1ppp/4p3/3pP3/3P1P2/8/PPPN2PP/R1B...        +52\n",
       "9  rnbqkb1r/pp1n1ppp/4p3/2ppP3/3P1P2/8/PPPN2PP/R1...        +52"
      ]
     },
     "execution_count": 20,
     "metadata": {},
     "output_type": "execute_result"
    }
   ],
   "source": [
    "df.head(10)"
   ]
  },
  {
   "cell_type": "code",
   "execution_count": 30,
   "metadata": {},
   "outputs": [],
   "source": [
    "from sklearn.model_selection import train_test_split\n",
    "\n",
    "def FENtoVEC (FEN):\n",
    "    pieces = {\"r\":5,\"n\":3,\"b\":3.5,\"q\":9.5,\"k\":20,\"p\":1,\"R\":-5,\"N\":-3,\"B\":-3.5,\"Q\":-9.5,\"K\":-20,\"P\":-1}\n",
    "    FEN = list(str(FEN.split()[0]))\n",
    "    VEC = []\n",
    "    for i in range(len(FEN)):\n",
    "        if FEN[i] == \"/\":\n",
    "            continue\n",
    "        if FEN[i] in pieces:\n",
    "            VEC.append(pieces[FEN[i]])\n",
    "        else:\n",
    "            em = [VEC.append(0) for i in range(int(FEN[i]))]\n",
    "\n",
    "    return VEC\n",
    "\n",
    "#Preparing training data\n",
    "df = df.head(400000)\n",
    "board = df[\"FEN\"].tolist()\n",
    "evl = np.asarray([float(i.strip(\"#+\")) for i in df[\"Evaluation\"].tolist()])\n",
    "evl = np.clip(evl, -1000, 1000) / 1000\n",
    "NNtrainX = np.asarray([FENtoVEC(state) for state in board])\n",
    "NNtrainy = evl\n",
    "\n",
    "NNtrainX = NNtrainX.reshape(-1, 8, 8, 1)  # Reshape to (num_samples, 8, 8, 1)\n",
    "\n",
    "X_temp, X_test, y_temp, y_test = train_test_split(NNtrainX, NNtrainy, test_size=0.2, random_state=42)\n",
    "X_train, X_val, y_train, y_val = train_test_split(X_temp, y_temp, test_size=0.25, random_state=42)\n"
   ]
  },
  {
   "cell_type": "code",
   "execution_count": 41,
   "metadata": {},
   "outputs": [
    {
     "name": "stdout",
     "output_type": "stream",
     "text": [
      "Epoch 1/1000\n",
      "3750/3750 [==============================] - 12s 3ms/step - loss: 0.1744 - mean_squared_error: 0.0835 - val_loss: 0.1729 - val_mean_squared_error: 0.0823\n",
      "Epoch 2/1000\n",
      "3750/3750 [==============================] - 11s 3ms/step - loss: 0.1713 - mean_squared_error: 0.0804 - val_loss: 0.1721 - val_mean_squared_error: 0.0815\n",
      "Epoch 3/1000\n",
      "3750/3750 [==============================] - 11s 3ms/step - loss: 0.1691 - mean_squared_error: 0.0783 - val_loss: 0.1691 - val_mean_squared_error: 0.0771\n",
      "Epoch 4/1000\n",
      "3750/3750 [==============================] - 11s 3ms/step - loss: 0.1671 - mean_squared_error: 0.0764 - val_loss: 0.1690 - val_mean_squared_error: 0.0779\n",
      "Epoch 5/1000\n",
      "3750/3750 [==============================] - 11s 3ms/step - loss: 0.1651 - mean_squared_error: 0.0749 - val_loss: 0.1670 - val_mean_squared_error: 0.0761\n",
      "Epoch 6/1000\n",
      "3750/3750 [==============================] - 11s 3ms/step - loss: 0.1630 - mean_squared_error: 0.0731 - val_loss: 0.1677 - val_mean_squared_error: 0.0769\n",
      "Epoch 7/1000\n",
      "3750/3750 [==============================] - 11s 3ms/step - loss: 0.1611 - mean_squared_error: 0.0715 - val_loss: 0.1649 - val_mean_squared_error: 0.0743\n",
      "Epoch 8/1000\n",
      "3750/3750 [==============================] - 11s 3ms/step - loss: 0.1589 - mean_squared_error: 0.0698 - val_loss: 0.1641 - val_mean_squared_error: 0.0737\n",
      "Epoch 9/1000\n",
      "3750/3750 [==============================] - 11s 3ms/step - loss: 0.1573 - mean_squared_error: 0.0685 - val_loss: 0.1635 - val_mean_squared_error: 0.0728\n",
      "Epoch 10/1000\n",
      "3750/3750 [==============================] - 12s 3ms/step - loss: 0.1554 - mean_squared_error: 0.0671 - val_loss: 0.1628 - val_mean_squared_error: 0.0727\n",
      "Epoch 11/1000\n",
      "3750/3750 [==============================] - 12s 3ms/step - loss: 0.1536 - mean_squared_error: 0.0655 - val_loss: 0.1622 - val_mean_squared_error: 0.0723\n",
      "Epoch 12/1000\n",
      "3750/3750 [==============================] - 11s 3ms/step - loss: 0.1521 - mean_squared_error: 0.0643 - val_loss: 0.1620 - val_mean_squared_error: 0.0720\n",
      "Epoch 13/1000\n",
      "3750/3750 [==============================] - 11s 3ms/step - loss: 0.1505 - mean_squared_error: 0.0630 - val_loss: 0.1633 - val_mean_squared_error: 0.0718\n",
      "Epoch 14/1000\n",
      "3750/3750 [==============================] - 12s 3ms/step - loss: 0.1489 - mean_squared_error: 0.0619 - val_loss: 0.1613 - val_mean_squared_error: 0.0719\n",
      "Epoch 15/1000\n",
      "3750/3750 [==============================] - 11s 3ms/step - loss: 0.1477 - mean_squared_error: 0.0610 - val_loss: 0.1607 - val_mean_squared_error: 0.0705\n",
      "Epoch 16/1000\n",
      "3750/3750 [==============================] - 11s 3ms/step - loss: 0.1465 - mean_squared_error: 0.0601 - val_loss: 0.1606 - val_mean_squared_error: 0.0703\n",
      "Epoch 17/1000\n",
      "3750/3750 [==============================] - 11s 3ms/step - loss: 0.1453 - mean_squared_error: 0.0592 - val_loss: 0.1596 - val_mean_squared_error: 0.0701\n",
      "Epoch 18/1000\n",
      "3750/3750 [==============================] - 12s 3ms/step - loss: 0.1443 - mean_squared_error: 0.0583 - val_loss: 0.1595 - val_mean_squared_error: 0.0701\n",
      "Epoch 19/1000\n",
      "3750/3750 [==============================] - 12s 3ms/step - loss: 0.1431 - mean_squared_error: 0.0575 - val_loss: 0.1597 - val_mean_squared_error: 0.0693\n",
      "Epoch 20/1000\n",
      "3750/3750 [==============================] - 12s 3ms/step - loss: 0.1420 - mean_squared_error: 0.0567 - val_loss: 0.1585 - val_mean_squared_error: 0.0690\n",
      "Epoch 21/1000\n",
      "3750/3750 [==============================] - 12s 3ms/step - loss: 0.1409 - mean_squared_error: 0.0557 - val_loss: 0.1580 - val_mean_squared_error: 0.0689\n",
      "Epoch 22/1000\n",
      "3750/3750 [==============================] - 12s 3ms/step - loss: 0.1400 - mean_squared_error: 0.0552 - val_loss: 0.1587 - val_mean_squared_error: 0.0692\n",
      "Epoch 23/1000\n",
      "3750/3750 [==============================] - 12s 3ms/step - loss: 0.1393 - mean_squared_error: 0.0546 - val_loss: 0.1571 - val_mean_squared_error: 0.0680\n",
      "Epoch 24/1000\n",
      "3750/3750 [==============================] - 12s 3ms/step - loss: 0.1386 - mean_squared_error: 0.0541 - val_loss: 0.1588 - val_mean_squared_error: 0.0692\n",
      "Epoch 25/1000\n",
      "3750/3750 [==============================] - 12s 3ms/step - loss: 0.1378 - mean_squared_error: 0.0534 - val_loss: 0.1585 - val_mean_squared_error: 0.0684\n",
      "Epoch 26/1000\n",
      "3750/3750 [==============================] - 12s 3ms/step - loss: 0.1369 - mean_squared_error: 0.0528 - val_loss: 0.1566 - val_mean_squared_error: 0.0679\n",
      "Epoch 27/1000\n",
      "3750/3750 [==============================] - 11s 3ms/step - loss: 0.1363 - mean_squared_error: 0.0524 - val_loss: 0.1574 - val_mean_squared_error: 0.0682\n",
      "Epoch 28/1000\n",
      "3750/3750 [==============================] - 11s 3ms/step - loss: 0.1356 - mean_squared_error: 0.0520 - val_loss: 0.1575 - val_mean_squared_error: 0.0687\n",
      "Epoch 29/1000\n",
      "3750/3750 [==============================] - 11s 3ms/step - loss: 0.1348 - mean_squared_error: 0.0513 - val_loss: 0.1573 - val_mean_squared_error: 0.0683\n",
      "Epoch 30/1000\n",
      "3750/3750 [==============================] - 11s 3ms/step - loss: 0.1342 - mean_squared_error: 0.0509 - val_loss: 0.1559 - val_mean_squared_error: 0.0669\n",
      "Epoch 31/1000\n",
      "3750/3750 [==============================] - 11s 3ms/step - loss: 0.1336 - mean_squared_error: 0.0505 - val_loss: 0.1567 - val_mean_squared_error: 0.0681\n",
      "Epoch 32/1000\n",
      "3750/3750 [==============================] - 11s 3ms/step - loss: 0.1330 - mean_squared_error: 0.0500 - val_loss: 0.1563 - val_mean_squared_error: 0.0671\n",
      "Epoch 33/1000\n",
      "3750/3750 [==============================] - 11s 3ms/step - loss: 0.1324 - mean_squared_error: 0.0497 - val_loss: 0.1576 - val_mean_squared_error: 0.0681\n",
      "Epoch 34/1000\n",
      "3750/3750 [==============================] - 11s 3ms/step - loss: 0.1316 - mean_squared_error: 0.0492 - val_loss: 0.1562 - val_mean_squared_error: 0.0672\n",
      "Epoch 35/1000\n",
      "3750/3750 [==============================] - 12s 3ms/step - loss: 0.1315 - mean_squared_error: 0.0491 - val_loss: 0.1564 - val_mean_squared_error: 0.0677\n",
      "Epoch 36/1000\n",
      "3750/3750 [==============================] - 12s 3ms/step - loss: 0.1312 - mean_squared_error: 0.0489 - val_loss: 0.1563 - val_mean_squared_error: 0.0674\n",
      "Epoch 37/1000\n",
      "3750/3750 [==============================] - 12s 3ms/step - loss: 0.1303 - mean_squared_error: 0.0481 - val_loss: 0.1568 - val_mean_squared_error: 0.0680\n",
      "Epoch 38/1000\n",
      "3750/3750 [==============================] - 11s 3ms/step - loss: 0.1298 - mean_squared_error: 0.0478 - val_loss: 0.1558 - val_mean_squared_error: 0.0669\n",
      "Epoch 39/1000\n",
      "3750/3750 [==============================] - 11s 3ms/step - loss: 0.1294 - mean_squared_error: 0.0476 - val_loss: 0.1569 - val_mean_squared_error: 0.0677\n",
      "Epoch 40/1000\n",
      "3750/3750 [==============================] - 12s 3ms/step - loss: 0.1290 - mean_squared_error: 0.0474 - val_loss: 0.1561 - val_mean_squared_error: 0.0670\n",
      "Epoch 41/1000\n",
      "3750/3750 [==============================] - 11s 3ms/step - loss: 0.1284 - mean_squared_error: 0.0468 - val_loss: 0.1546 - val_mean_squared_error: 0.0660\n",
      "Epoch 42/1000\n",
      "3750/3750 [==============================] - 11s 3ms/step - loss: 0.1279 - mean_squared_error: 0.0465 - val_loss: 0.1569 - val_mean_squared_error: 0.0671\n",
      "Epoch 43/1000\n",
      "3750/3750 [==============================] - 11s 3ms/step - loss: 0.1278 - mean_squared_error: 0.0464 - val_loss: 0.1563 - val_mean_squared_error: 0.0676\n",
      "Epoch 44/1000\n",
      "3750/3750 [==============================] - 11s 3ms/step - loss: 0.1272 - mean_squared_error: 0.0460 - val_loss: 0.1569 - val_mean_squared_error: 0.0676\n",
      "Epoch 45/1000\n",
      "3750/3750 [==============================] - 11s 3ms/step - loss: 0.1270 - mean_squared_error: 0.0459 - val_loss: 0.1570 - val_mean_squared_error: 0.0672\n",
      "Epoch 46/1000\n",
      "3750/3750 [==============================] - 11s 3ms/step - loss: 0.1264 - mean_squared_error: 0.0455 - val_loss: 0.1558 - val_mean_squared_error: 0.0675\n",
      "Epoch 47/1000\n",
      "3750/3750 [==============================] - 11s 3ms/step - loss: 0.1265 - mean_squared_error: 0.0455 - val_loss: 0.1574 - val_mean_squared_error: 0.0677\n",
      "Epoch 48/1000\n",
      "3750/3750 [==============================] - 11s 3ms/step - loss: 0.1260 - mean_squared_error: 0.0453 - val_loss: 0.1545 - val_mean_squared_error: 0.0661\n",
      "Epoch 49/1000\n",
      "3750/3750 [==============================] - 11s 3ms/step - loss: 0.1256 - mean_squared_error: 0.0450 - val_loss: 0.1566 - val_mean_squared_error: 0.0675\n",
      "Epoch 50/1000\n",
      "3750/3750 [==============================] - 11s 3ms/step - loss: 0.1254 - mean_squared_error: 0.0448 - val_loss: 0.1565 - val_mean_squared_error: 0.0674\n",
      "Epoch 51/1000\n",
      "3750/3750 [==============================] - 11s 3ms/step - loss: 0.1249 - mean_squared_error: 0.0444 - val_loss: 0.1555 - val_mean_squared_error: 0.0669\n",
      "Epoch 52/1000\n",
      "3750/3750 [==============================] - 11s 3ms/step - loss: 0.1249 - mean_squared_error: 0.0445 - val_loss: 0.1571 - val_mean_squared_error: 0.0682\n",
      "Epoch 53/1000\n",
      "3750/3750 [==============================] - 11s 3ms/step - loss: 0.1243 - mean_squared_error: 0.0441 - val_loss: 0.1561 - val_mean_squared_error: 0.0670\n",
      "Epoch 54/1000\n",
      "3750/3750 [==============================] - 11s 3ms/step - loss: 0.1242 - mean_squared_error: 0.0440 - val_loss: 0.1557 - val_mean_squared_error: 0.0665\n",
      "Epoch 55/1000\n",
      "3750/3750 [==============================] - 12s 3ms/step - loss: 0.1239 - mean_squared_error: 0.0439 - val_loss: 0.1556 - val_mean_squared_error: 0.0675\n",
      "Epoch 56/1000\n",
      "3750/3750 [==============================] - 11s 3ms/step - loss: 0.1236 - mean_squared_error: 0.0435 - val_loss: 0.1572 - val_mean_squared_error: 0.0678\n",
      "Epoch 57/1000\n",
      "3750/3750 [==============================] - 11s 3ms/step - loss: 0.1234 - mean_squared_error: 0.0435 - val_loss: 0.1543 - val_mean_squared_error: 0.0665\n",
      "Epoch 58/1000\n",
      "3750/3750 [==============================] - 24s 6ms/step - loss: 0.1230 - mean_squared_error: 0.0431 - val_loss: 0.1578 - val_mean_squared_error: 0.0682\n",
      "Epoch 59/1000\n",
      "3750/3750 [==============================] - 20s 5ms/step - loss: 0.1226 - mean_squared_error: 0.0429 - val_loss: 0.1544 - val_mean_squared_error: 0.0664\n",
      "Epoch 60/1000\n",
      "3750/3750 [==============================] - 169s 45ms/step - loss: 0.1228 - mean_squared_error: 0.0432 - val_loss: 0.1564 - val_mean_squared_error: 0.0678\n",
      "Epoch 61/1000\n",
      "3750/3750 [==============================] - 11s 3ms/step - loss: 0.1226 - mean_squared_error: 0.0429 - val_loss: 0.1561 - val_mean_squared_error: 0.0673\n",
      "Epoch 62/1000\n",
      "3750/3750 [==============================] - 16s 4ms/step - loss: 0.1222 - mean_squared_error: 0.0426 - val_loss: 0.1586 - val_mean_squared_error: 0.0683\n",
      "Epoch 63/1000\n",
      "3750/3750 [==============================] - 336s 90ms/step - loss: 0.1220 - mean_squared_error: 0.0424 - val_loss: 0.1543 - val_mean_squared_error: 0.0660\n",
      "Epoch 64/1000\n",
      "3750/3750 [==============================] - 499s 133ms/step - loss: 0.1220 - mean_squared_error: 0.0424 - val_loss: 0.1554 - val_mean_squared_error: 0.0666\n",
      "Epoch 65/1000\n",
      "3750/3750 [==============================] - 14s 4ms/step - loss: 0.1215 - mean_squared_error: 0.0422 - val_loss: 0.1557 - val_mean_squared_error: 0.0669\n",
      "Epoch 66/1000\n",
      "3750/3750 [==============================] - 49s 13ms/step - loss: 0.1212 - mean_squared_error: 0.0419 - val_loss: 0.1550 - val_mean_squared_error: 0.0664\n",
      "Epoch 67/1000\n",
      "3750/3750 [==============================] - 12s 3ms/step - loss: 0.1213 - mean_squared_error: 0.0420 - val_loss: 0.1560 - val_mean_squared_error: 0.0669\n"
     ]
    },
    {
     "data": {
      "image/png": "[encoded data removed]",
      "text/plain": [
       "<Figure size 640x480 with 1 Axes>"
      ]
     },
     "metadata": {},
     "output_type": "display_data"
    }
   ],
   "source": [
    "import matplotlib.pyplot as plt\n",
    "from keras.callbacks import EarlyStopping\n",
    "from keras.layers import Conv2D, MaxPooling2D, Flatten, Dense\n",
    "\n",
    "early_stopping = EarlyStopping(monitor='val_loss', patience=10)\n",
    "\n",
    "model = Sequential()\n",
    "\n",
    "model.add(Conv2D(32, kernel_size=(3, 3), activation='relu', input_shape=(8, 8, 1)))\n",
    "model.add(Conv2D(64, (3, 3), activation='relu'))\n",
    "#model.add(MaxPooling2D(pool_size=(2, 2)))\n",
    "\n",
    "\n",
    "model.add(Conv2D(128, (3, 3), activation='relu'))\n",
    "model.add(MaxPooling2D(pool_size=(2, 2)))\n",
    "\n",
    "\n",
    "model.add(Flatten())\n",
    "model.add(Dense(256, activation='relu'))\n",
    "model.add(Dense(1, activation='tanh'))\n",
    "\n",
    "model.compile(loss='mean_absolute_error', optimizer='adam', metrics=['mean_squared_error'],steps_per_execution = 32)\n",
    "\n",
    "\n",
    "history = model.fit(X_train, y_train, epochs=1000, batch_size=64, validation_data=(X_val, y_val), callbacks=[early_stopping])\n",
    "\n",
    "plt.plot(history.history['loss'])\n",
    "plt.plot(history.history['val_loss'])\n",
    "plt.title('Model loss')\n",
    "plt.ylabel('Loss')\n",
    "plt.xlabel('Epoch')\n",
    "plt.legend(['Train', 'Validation'], loc='upper right')\n",
    "plt.show()\n",
    "\n",
    "\n"
   ]
  },
  {
   "cell_type": "code",
   "execution_count": 39,
   "metadata": {},
   "outputs": [
    {
     "name": "stdout",
     "output_type": "stream",
     "text": [
      "2500/2500 [==============================] - 1s 576us/step - loss: 0.1613 - mean_squared_error: 0.0714\n",
      "Test MAE: 0.07135850191116333\n"
     ]
    }
   ],
   "source": [
    "test_loss, test_mae = model.evaluate(X_test, y_test)\n",
    "print('Test MAE:', test_mae)"
   ]
  },
  {
   "cell_type": "code",
   "execution_count": 33,
   "metadata": {},
   "outputs": [
    {
     "name": "stdout",
     "output_type": "stream",
     "text": [
      "2500/2500 [==============================] - 1s 203us/step\n"
     ]
    },
    {
     "data": {
      "text/plain": [
       "array([[ 1.17135026e-01],\n",
       "       [ 2.59141140e-02],\n",
       "       [ 6.39426580e-05],\n",
       "       ...,\n",
       "       [ 2.59141140e-02],\n",
       "       [-3.84882614e-02],\n",
       "       [ 2.59141140e-02]], dtype=float32)"
      ]
     },
     "execution_count": 33,
     "metadata": {},
     "output_type": "execute_result"
    }
   ],
   "source": [
    "predictions = model.predict(X_test)\n",
    "predictions"
   ]
  },
  {
   "cell_type": "code",
   "execution_count": 34,
   "metadata": {},
   "outputs": [
    {
     "name": "stderr",
     "output_type": "stream",
     "text": [
      "WARNING:absl:Found untraced functions such as _jit_compiled_convolution_op while saving (showing 1 of 1). These functions will not be directly callable after loading.\n"
     ]
    },
    {
     "name": "stdout",
     "output_type": "stream",
     "text": [
      "INFO:tensorflow:Assets written to: model/assets\n"
     ]
    },
    {
     "name": "stderr",
     "output_type": "stream",
     "text": [
      "INFO:tensorflow:Assets written to: model/assets\n"
     ]
    },
    {
     "data": {
      "text/plain": [
       "['./model.joblib']"
      ]
     },
     "execution_count": 34,
     "metadata": {},
     "output_type": "execute_result"
    }
   ],
   "source": [
    "model.save('model')\n",
    "\n",
    "import joblib\n",
    "\n",
    "joblib.dump(model, './model.joblib')"
   ]
  },
  {
   "cell_type": "code",
   "execution_count": null,
   "metadata": {},
   "outputs": [
    {
     "data": {
      "text/plain": [
       "[5,\n",
       " 3,\n",
       " 3.5,\n",
       " 9.5,\n",
       " 20,\n",
       " 3.5,\n",
       " 3,\n",
       " 5,\n",
       " 1,\n",
       " 1,\n",
       " 1,\n",
       " 1,\n",
       " 1,\n",
       " 1,\n",
       " 1,\n",
       " 1,\n",
       " 0,\n",
       " 0,\n",
       " 0,\n",
       " 0,\n",
       " 0,\n",
       " 0,\n",
       " 0,\n",
       " 0,\n",
       " 0,\n",
       " 0,\n",
       " 0,\n",
       " 0,\n",
       " 0,\n",
       " 0,\n",
       " 0,\n",
       " 0,\n",
       " 0,\n",
       " 0,\n",
       " 0,\n",
       " 0,\n",
       " 0,\n",
       " 0,\n",
       " 0,\n",
       " 0,\n",
       " 0,\n",
       " 0,\n",
       " 0,\n",
       " 0,\n",
       " 0,\n",
       " 0,\n",
       " 0,\n",
       " 0,\n",
       " -1,\n",
       " -1,\n",
       " -1,\n",
       " -1,\n",
       " -1,\n",
       " -1,\n",
       " -1,\n",
       " -1,\n",
       " -5,\n",
       " -3,\n",
       " -3.5,\n",
       " -9.5,\n",
       " -20,\n",
       " -3.5,\n",
       " -3,\n",
       " -5]"
      ]
     },
     "execution_count": 20,
     "metadata": {},
     "output_type": "execute_result"
    }
   ],
   "source": [
    "FENtoVEC(\"rnbqkbnr/pppppppp/8/8/8/8/PPPPPPPP/RNBQKBNR w KQkq - 0 1\")"
   ]
  },
  {
   "cell_type": "code",
   "execution_count": null,
   "metadata": {},
   "outputs": [
    {
     "ename": "ValueError",
     "evalue": "in user code:\n\n    File \"/Users/andrew/anaconda3/envs/TensorFlow/lib/python3.11/site-packages/keras/engine/training.py\", line 2175, in predict_function  *\n        outputs = step_function(self, iterator)\n    File \"/Users/andrew/anaconda3/envs/TensorFlow/lib/python3.11/site-packages/keras/engine/training.py\", line 2155, in step_function  **\n        outputs = model.distribute_strategy.run(run_step, args=(data,))\n    File \"/Users/andrew/anaconda3/envs/TensorFlow/lib/python3.11/site-packages/keras/engine/training.py\", line 2143, in run_step  **\n        outputs = model.predict_step(data)\n    File \"/Users/andrew/anaconda3/envs/TensorFlow/lib/python3.11/site-packages/keras/engine/training.py\", line 2111, in predict_step\n        return self(x, training=False)\n    File \"/Users/andrew/anaconda3/envs/TensorFlow/lib/python3.11/site-packages/keras/utils/traceback_utils.py\", line 70, in error_handler\n        raise e.with_traceback(filtered_tb) from None\n    File \"/Users/andrew/anaconda3/envs/TensorFlow/lib/python3.11/site-packages/keras/engine/input_spec.py\", line 298, in assert_input_compatibility\n        raise ValueError(\n\n    ValueError: Input 0 of layer \"sequential_5\" is incompatible with the layer: expected shape=(None, 64), found shape=(None, 63)\n",
     "output_type": "error",
     "traceback": [
      "\u001b[0;31m---------------------------------------------------------------------------\u001b[0m",
      "\u001b[0;31mValueError\u001b[0m                                Traceback (most recent call last)",
      "Cell \u001b[0;32mIn[21], line 8\u001b[0m\n\u001b[1;32m      5\u001b[0m fen_vec \u001b[39m=\u001b[39m np\u001b[39m.\u001b[39masarray(fen_vec)\n\u001b[1;32m      7\u001b[0m \u001b[39m# Make a prediction\u001b[39;00m\n\u001b[0;32m----> 8\u001b[0m prediction \u001b[39m=\u001b[39m model\u001b[39m.\u001b[39mpredict(fen_vec)\n\u001b[1;32m      9\u001b[0m prediction2 \u001b[39m=\u001b[39m forest_model\u001b[39m.\u001b[39mpredict(fen_vec)\n\u001b[1;32m     11\u001b[0m prediction[\u001b[39m0\u001b[39m][\u001b[39m0\u001b[39m]\n",
      "File \u001b[0;32m~/anaconda3/envs/TensorFlow/lib/python3.11/site-packages/keras/utils/traceback_utils.py:70\u001b[0m, in \u001b[0;36mfilter_traceback.<locals>.error_handler\u001b[0;34m(*args, **kwargs)\u001b[0m\n\u001b[1;32m     67\u001b[0m     filtered_tb \u001b[39m=\u001b[39m _process_traceback_frames(e\u001b[39m.\u001b[39m__traceback__)\n\u001b[1;32m     68\u001b[0m     \u001b[39m# To get the full stack trace, call:\u001b[39;00m\n\u001b[1;32m     69\u001b[0m     \u001b[39m# `tf.debugging.disable_traceback_filtering()`\u001b[39;00m\n\u001b[0;32m---> 70\u001b[0m     \u001b[39mraise\u001b[39;00m e\u001b[39m.\u001b[39mwith_traceback(filtered_tb) \u001b[39mfrom\u001b[39;00m \u001b[39mNone\u001b[39;00m\n\u001b[1;32m     71\u001b[0m \u001b[39mfinally\u001b[39;00m:\n\u001b[1;32m     72\u001b[0m     \u001b[39mdel\u001b[39;00m filtered_tb\n",
      "File \u001b[0;32m/var/folders/ld/9tz67gqj47d4bl3zxhzbs8nc0000gn/T/__autograph_generated_file1z4bm4dl.py:13\u001b[0m, in \u001b[0;36mouter_factory.<locals>.inner_factory.<locals>.tf__predict_function\u001b[0;34m(iterator)\u001b[0m\n\u001b[1;32m     11\u001b[0m do_return \u001b[39m=\u001b[39m \u001b[39mFalse\u001b[39;00m\n\u001b[1;32m     12\u001b[0m retval_ \u001b[39m=\u001b[39m ag__\u001b[39m.\u001b[39mUndefinedReturnValue()\n\u001b[0;32m---> 13\u001b[0m outputs \u001b[39m=\u001b[39m ag__\u001b[39m.\u001b[39mconverted_call(ag__\u001b[39m.\u001b[39mld(step_function), (ag__\u001b[39m.\u001b[39mld(\u001b[39mself\u001b[39m), ag__\u001b[39m.\u001b[39mld(iterator)), \u001b[39mNone\u001b[39;00m, fscope)\n\u001b[1;32m     15\u001b[0m \u001b[39mdef\u001b[39;00m \u001b[39mget_state\u001b[39m():\n\u001b[1;32m     16\u001b[0m     \u001b[39mreturn\u001b[39;00m (outputs,)\n",
      "\u001b[0;31mValueError\u001b[0m: in user code:\n\n    File \"/Users/andrew/anaconda3/envs/TensorFlow/lib/python3.11/site-packages/keras/engine/training.py\", line 2175, in predict_function  *\n        outputs = step_function(self, iterator)\n    File \"/Users/andrew/anaconda3/envs/TensorFlow/lib/python3.11/site-packages/keras/engine/training.py\", line 2155, in step_function  **\n        outputs = model.distribute_strategy.run(run_step, args=(data,))\n    File \"/Users/andrew/anaconda3/envs/TensorFlow/lib/python3.11/site-packages/keras/engine/training.py\", line 2143, in run_step  **\n        outputs = model.predict_step(data)\n    File \"/Users/andrew/anaconda3/envs/TensorFlow/lib/python3.11/site-packages/keras/engine/training.py\", line 2111, in predict_step\n        return self(x, training=False)\n    File \"/Users/andrew/anaconda3/envs/TensorFlow/lib/python3.11/site-packages/keras/utils/traceback_utils.py\", line 70, in error_handler\n        raise e.with_traceback(filtered_tb) from None\n    File \"/Users/andrew/anaconda3/envs/TensorFlow/lib/python3.11/site-packages/keras/engine/input_spec.py\", line 298, in assert_input_compatibility\n        raise ValueError(\n\n    ValueError: Input 0 of layer \"sequential_5\" is incompatible with the layer: expected shape=(None, 64), found shape=(None, 63)\n"
     ]
    }
   ],
   "source": [
    "# Convert FEN to vector\n",
    "fen_vec = [FENtoVEC(\"rnbqkbnr/pppppppp/8/8/8/8/PPPPPPPP/RNBQKBNR\")]\n",
    "\n",
    "# Ensure the input is in the correct format\n",
    "fen_vec = np.asarray(fen_vec)\n",
    "\n",
    "# Make a prediction\n",
    "prediction = model.predict(fen_vec)\n",
    "prediction2 = forest_model.predict(fen_vec)\n",
    "\n",
    "prediction[0][0]\n"
   ]
  },
  {
   "cell_type": "code",
   "execution_count": null,
   "metadata": {},
   "outputs": [
    {
     "data": {
      "text/plain": [
       "['./forest_model.joblib']"
      ]
     },
     "execution_count": 23,
     "metadata": {},
     "output_type": "execute_result"
    }
   ],
   "source": [
    "import joblib\n",
    "\n",
    "joblib.dump(forest_model, './forest_model.joblib')"
   ]
  },
  {
   "cell_type": "code",
   "execution_count": null,
   "metadata": {},
   "outputs": [],
   "source": []
  }
 ],
 "metadata": {
  "kernelspec": {
   "display_name": "Python 3 (ipykernel)",
   "language": "python",
   "name": "python3"
  },
  "language_info": {
   "codemirror_mode": {
    "name": "ipython",
    "version": 3
   },
   "file_extension": ".py",
   "mimetype": "text/x-python",
   "name": "python",
   "nbconvert_exporter": "python",
   "pygments_lexer": "ipython3",
   "version": "3.11.5"
  }
 },
 "nbformat": 4,
 "nbformat_minor": 4
}
