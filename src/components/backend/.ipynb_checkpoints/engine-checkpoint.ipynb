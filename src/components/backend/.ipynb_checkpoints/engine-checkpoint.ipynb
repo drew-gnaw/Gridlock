{
 "cells": [
  {
   "cell_type": "code",
   "execution_count": null,
   "metadata": {},
   "outputs": [],
   "source": [
    "import numpy as np # linear algebra\n",
    "import pandas as pd # data processing, CSV file I/O (e.g. pd.read_csv)\n",
    "import os\n",
    "import tensorflow as tf\n",
    "from tensorflow import keras\n",
    "for dirname, _, filenames in os.walk('/kaggle/input'):\n",
    "    for filename in filenames:\n",
    "        print(os.path.join(dirname, filename))\n",
    "from keras.models import Sequential\n",
    "from keras.layers import Dense\n",
    "from sklearn.ensemble import RandomForestRegressor\n",
    "from sklearn.metrics import mean_absolute_error\n",
    "\n",
    "#Installing the python Chess module using Pip, Please Ensure Internet is turned on, otherwise this will return an error\n",
    "!pip install chess\n",
    "import chess\n",
    "\n",
    "#Reading in our training data\n",
    "df = pd.read_csv(\"/kaggle/input/chess-evaluations/chessData.csv\")\n",
    "#Reading in our validation data\n",
    "Edf = pd.read_csv(\"/kaggle/input/chess-evaluations/random_evals.csv\")"
   ]
  }
 ],
 "metadata": {
  "language_info": {
   "name": "python"
  },
  "orig_nbformat": 4
 },
 "nbformat": 4,
 "nbformat_minor": 2
}
